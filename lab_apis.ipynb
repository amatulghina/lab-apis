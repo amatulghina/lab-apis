{
 "cells": [
  {
   "cell_type": "markdown",
   "metadata": {
    "id": "652795cf-c390-4707-a9fe-35fb62a6f29e"
   },
   "source": [
    "# Lab | APIS"
   ]
  },
  {
   "cell_type": "markdown",
   "metadata": {
    "id": "f096fb7e-1955-4f9d-acc9-07fd8dda9846"
   },
   "source": [
    "In this lab, you will collect historical data about the Nobel Prize winners using [this free and non-authenticated API](https://www.nobelprize.org/organization/developer-zone-2/). According to the documentation available [here](https://app.swaggerhub.com/apis/NobelMedia/NobelMasterData/2.1#/default/get_nobelPrizes). The base url is: \"http://api.nobelprize.org/2.1/\" followed by a string to specify what kind of information do you want to retrieve. The acceptable options are:\n",
    "\n",
    "* nobelPrices\n",
    "* nobelPrice/category/year\n",
    "* laureates\n",
    "* laureate/laureateID"
   ]
  },
  {
   "cell_type": "markdown",
   "metadata": {
    "id": "2179b225-2444-49c9-b3ec-6108e8ed41d2"
   },
   "source": [
    "# Getting the information using requests"
   ]
  },
  {
   "cell_type": "markdown",
   "metadata": {
    "id": "e714cfbd-7178-48d5-879c-d4d23feea969"
   },
   "source": [
    "Use the Python `requests`, and `json` libraries to obtain the information of ALL the Nobel Prizes. Make sure to verify that you get the proper status code (200)."
   ]
  },
  {
   "cell_type": "markdown",
   "metadata": {
    "id": "0e58cf8c-16ed-4257-a7c8-7a534d79fefa"
   },
   "source": [
    "The json outputs are simple plain text that need to be converted into the corresponding nested dictionary. Use the `.json()` method to cast the output into a Python dictionary."
   ]
  },
  {
   "cell_type": "markdown",
   "metadata": {
    "id": "7b6fa3a9-2730-45bd-a086-b9fd0b2c971e"
   },
   "source": [
    "Use the Pandas library to collect all the information into a Panda's DataFrame."
   ]
  },
  {
   "cell_type": "code",
   "execution_count": null,
   "metadata": {
    "colab": {
     "base_uri": "https://localhost:8080/",
     "height": 1000
    },
    "id": "f2823eb1-ab36-429f-b79c-76f25c3c3513",
    "outputId": "714cac69-8873-4ddc-8372-b720bca1babd"
   },
   "outputs": [],
   "source": [
    "import requests\n",
    "import json\n",
    "import pandas as pd\n",
    "\n",
    "url = \"http://api.nobelprize.org/2.1/nobelPrizes?limit=100000\"\n",
    "\n",
    "response = requests.get(url)\n",
    "\n",
    "if response.status_code == 200:\n",
    "        print(\"All good!\")\n",
    "        print(\"==============\")\n",
    "        print(\"\\n\")\n",
    "        data = response.json()[\"nobelPrizes\"]\n",
    "        data = pd.DataFrame(data)"
   ]
  },
  {
   "cell_type": "markdown",
   "metadata": {
    "id": "MUdAwBLFghOt"
   },
   "source": [
    "# Processing the output"
   ]
  },
  {
   "cell_type": "markdown",
   "metadata": {
    "id": "WnvYDOQ_gj3L"
   },
   "source": [
    "Process the Pandas DataFrame in order to have only the following columns:\n",
    "\n",
    "- category\n",
    "- dateAwarded (as DateTime in \"yyyy-mm-dd\" format)\n",
    "- prizeAmount\n",
    "- prizeAmountAdjusted\n",
    "- Number_of_laureates\n",
    "- motivation\n",
    "- laureate_ids (as a list)"
   ]
  },
  {
   "cell_type": "code",
   "execution_count": null,
   "metadata": {
    "colab": {
     "base_uri": "https://localhost:8080/",
     "height": 293
    },
    "id": "94676ee6",
    "outputId": "6969dac6-4097-40a2-da2d-5a1e1b5e33f2"
   },
   "outputs": [],
   "source": [
    "url = \"http://api.nobelprize.org/2.1/nobelPrizes?limit=100000\"\n",
    "\n",
    "response = requests.get(url)\n",
    "\n",
    "if response.status_code == 200:\n",
    "    prizes_list = response.json()['nobelPrizes']\n",
    "    data = pd.DataFrame(prizes_list)\n",
    "    nobel = pd.DataFrame()\n",
    "    nobel['category'] = data['category'].str['en']\n",
    "    nobel['dateAwarded'] = data['dateAwarded']\n",
    "    nobel['prizeAmount'] = data['prizeAmount']\n",
    "    nobel['prizeAmountAdjusted'] = data['prizeAmountAdjusted']\n",
    "    nobel['Number_of_laureates'] = data['laureates'].apply(lambda x: len(x) if isinstance(x, list) else 0)\n",
    "    nobel['motivation'] = data['laureates'].apply(lambda x: x[0]['motivation']['en'] if isinstance(x, list) else None)\n",
    "    nobel['laureate_ids'] = data['laureates'].apply(lambda x: [laureate['id'] for laureate in x] if isinstance(x, list) else [])\n",
    "    \n",
    "nobel"
   ]
  },
  {
   "cell_type": "markdown",
   "metadata": {
    "id": "hA6b__V6iAPe"
   },
   "source": [
    "# Getting a Pandas DataFrame with the details of awarded authors/institutions"
   ]
  },
  {
   "cell_type": "markdown",
   "metadata": {
    "id": "QmRs0Jf_iM7G"
   },
   "source": [
    "If you dive deeper and use the API to retrieve the details of some laureate_ids, you will notice that not allways the Nobel Prize was awarded to individuals. In some cases, the awards were given to institutions.\n",
    "\n",
    "Get the unique ids from the previous datasets and prepare the following functions:\n",
    "\n",
    "- get_name(laureate) ( it should return the english name 'fullName' of the individual or 'orgName' of the institution )\n",
    "\n",
    "- get_gender(laureate) ( it should return the gender or 'Unknown' for individuals, and 'None' for institutions )\n",
    "\n",
    "- get_birthdate(laureate) ( it should return the birthdate when it's avaialble or 'Unknown' otherwise )\n",
    "\n",
    "- get_age(laureate) ( it should return the age of the awarded individual or 'Unknown' when it's not avaialble or for institutions )\n",
    "\n",
    "- get_city(laureate) ( it should return the english name of the city when it's available or 'Unknown' otherwise )\n",
    "\n",
    "- get_country(laureate) ( it should return the english name of the country when it's available or 'Unknown' otherwise )\n",
    "\n",
    "- get_continent(laureate) ( it should return the english name of the continent when it's available or 'Unknown' otherwise )\n",
    "\n",
    "- get_latitude(laureate) ( it should return the city's latitude when it's available or 'Unknown' otherwise )\n",
    "\n",
    "- get_longitude(laureate) ( it should return the city's longitude\n",
    " when it's available or 'Unknown' otherwise )\n",
    "\n",
    "Create the following dictionaries:\n",
    "\n",
    "```python\n",
    "laureates_dict = {\"ID\": [], \"Name\": [], \"Gender\": [], \\\n",
    "                  \"Birth_date\": [], \"Age\": [], \\\n",
    "                  \"City\": [], \"Country\": [], \"Continent\": [], \\\n",
    "                  \"Latitude\": [], \"Longitude\": []}                        \n",
    "\n",
    "functions_dict = {\"ID\": None, \"Name\": get_name, \"Gender\": get_gender, \\\n",
    "                  \"Birth_date\": get_birthdate, \"Age\": get_age, \\\n",
    "                  \"City\": get_city, \"Country\": get_country, \"Continent\": get_continent, \\\n",
    "                  \"Latitude\": get_latitude, \"Longitude\": get_longitude}\n",
    "```\n",
    "\n",
    "For each unique `laureate_id` of the previous DataFrame make an API call to get the details of the awarded individual/intitution and iterate of the previous dictionaries keys in order to add the corresponding information of each `laureate_id` in the empty lists of `laureates_dict`.\n",
    "\n",
    "Finally, create a Pandas DataFrame named `laureates_df` using the `laureates_dict`."
   ]
  },
  {
   "cell_type": "code",
   "execution_count": null,
   "metadata": {},
   "outputs": [],
   "source": [
    "import time\n",
    "from tqdm import tqdm\n",
    "\n",
    "\n",
    "ids = [int(item) for l in df['laureate_ids'].values for item in l]\n",
    "unique_ids = set(ids)\n",
    "\n",
    "def get_name(laureate):\n",
    "\n",
    "    # Person\n",
    "    # Your code here\n",
    "\n",
    "    # Organization\n",
    "    # Your code here\n",
    "\n",
    "\n",
    "def get_gender(laureate):\n",
    "\n",
    "    # Person\n",
    "    # Your code here\n",
    "\n",
    "    # Organizrtion\n",
    "    # Your code here\n",
    "\n",
    "def get_birthdate(laureate):\n",
    "\n",
    "    birth_date = \"Unknown\"\n",
    "\n",
    "    # Person\n",
    "    # Your code here\n",
    "\n",
    "    # Organization\n",
    "    # Yuor code here\n",
    "\n",
    "    return birth_date\n",
    "\n",
    "def get_age(laureate):\n",
    "\n",
    "    birth_date = \"Unknown\"\n",
    "    award_date = \"Unknown\"\n",
    "\n",
    "    # Person\n",
    "    # Your code here\n",
    "\n",
    "    # Organization\n",
    "    # Yuor code here\n",
    "\n",
    "    # Award date\n",
    "    # Your code here\n",
    "\n",
    "def get_city(laureate):\n",
    "\n",
    "    # Person\n",
    "    # Your code here\n",
    "\n",
    "    # Organization\n",
    "    # Your code here\n",
    "\n",
    "def get_country(laureate):\n",
    "\n",
    "    # Person\n",
    "    # Your code here\n",
    "\n",
    "    # Origanization\n",
    "    # Your code here\n",
    "\n",
    "\n",
    "def get_continent(laureate):\n",
    "\n",
    "    # Person\n",
    "    # Your code here\n",
    "\n",
    "    # Organization\n",
    "    # Your code here\n",
    "\n",
    "def get_latitude(laureate):\n",
    "\n",
    "    # Person\n",
    "    # Your code here\n",
    "\n",
    "    # Organization\n",
    "    # Your code here\n",
    "\n",
    "def get_longitude(laureate):\n",
    "\n",
    "    # Person\n",
    "    # Your code here\n",
    "\n",
    "    # Organization\n",
    "    # Yuor code here\n",
    "\n",
    "\n",
    "laureates_dict = {\"ID\": [], \"Name\": [], \"Gender\": [], \\\n",
    "                  \"Birth_date\": [], \"Age\": [], \\\n",
    "                  \"City\": [], \"Country\": [], \"Continent\": [], \\\n",
    "                  \"Latitude\": [], \"Longitude\": []}\n",
    "\n",
    "functions_dict = {\"ID\": None, \"Name\": get_name, \"Gender\": get_gender, \\\n",
    "                  \"Birth_date\": get_birthdate, \"Age\": get_age, \\\n",
    "                  \"City\": get_city, \"Country\": get_country, \"Continent\": get_continent, \\\n",
    "                  \"Latitude\": get_latitude, \"Longitude\": get_longitude}\n",
    "\n",
    "for index, id in enumerate(tqdm(unique_ids)):\n",
    "\n",
    "    url = \"https://api.nobelprize.org/2/laureate/\" + str(id)\n",
    "    response = requests.get(url)\n",
    "\n",
    "    if response.status_code == 200:\n",
    "\n",
    "        laureate = response.json()\n",
    "\n",
    "        # Your code here\n",
    "\n",
    "laureates_df = pd.DataFrame(laureates_dict)\n",
    "\n",
    "laureates_df\n",
    "\n"
   ]
  },
  {
   "cell_type": "markdown",
   "metadata": {
    "id": "9EQ5bO0YpWjn"
   },
   "source": [
    "# Country ranking"
   ]
  },
  {
   "cell_type": "markdown",
   "metadata": {
    "id": "uCUEl_0gppZp"
   },
   "source": [
    "Get a ranking countries by the number of times that they had been awarded in any category."
   ]
  },
  {
   "cell_type": "code",
   "execution_count": null,
   "metadata": {
    "colab": {
     "base_uri": "https://localhost:8080/",
     "height": 455
    },
    "id": "t_ZLS_y44HrO",
    "outputId": "eca0f70b-45fa-47ac-e3e9-1de74a90da6e"
   },
   "outputs": [],
   "source": [
    "# Your code here"
   ]
  }
 ],
 "metadata": {
  "colab": {
   "provenance": []
  },
  "kernelspec": {
   "display_name": "Python 3",
   "language": "python",
   "name": "python3"
  },
  "language_info": {
   "codemirror_mode": {
    "name": "ipython",
    "version": 3
   },
   "file_extension": ".py",
   "mimetype": "text/x-python",
   "name": "python",
   "nbconvert_exporter": "python",
   "pygments_lexer": "ipython3",
   "version": "3.7.4"
  }
 },
 "nbformat": 4,
 "nbformat_minor": 5
}
